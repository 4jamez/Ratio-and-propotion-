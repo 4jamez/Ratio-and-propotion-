{
  "nbformat": 4,
  "nbformat_minor": 0,
  "metadata": {
    "colab": {
      "provenance": []
    },
    "kernelspec": {
      "name": "python3",
      "display_name": "Python 3"
    },
    "language_info": {
      "name": "python"
    }
  },
  "cells": [
    {
      "cell_type": "code",
      "execution_count": null,
      "metadata": {
        "colab": {
          "base_uri": "https://localhost:8080/"
        },
        "id": "rr7rIS14UFkU",
        "outputId": "7ed8833d-fd68-4fed-80ec-79c67ee242de"
      },
      "outputs": [
        {
          "output_type": "stream",
          "name": "stdout",
          "text": [
            "7\n"
          ]
        }
      ],
      "source": [
        "print(5+2)"
      ]
    },
    {
      "cell_type": "markdown",
      "source": [
        "## PROPOTIONS"
      ],
      "metadata": {
        "id": "-0NS4a3PXuX4"
      }
    },
    {
      "cell_type": "markdown",
      "source": [
        "Set up a propotion.\n",
        "n1=n2\n",
        "d1=d2.\n",
        "\n",
        "\n",
        "\n",
        "Here cross multiplication is used.\n"
      ],
      "metadata": {
        "id": "X5g7mG_YpZB5"
      }
    },
    {
      "cell_type": "code",
      "source": [
        "#put a zero in for the unknown\n",
        "n1=3\n",
        "d1=5\n",
        "n2=0\n",
        "d2=10\n",
        "\n",
        "if n2==0:\n",
        "    answer= d2 * n1 / d1\n",
        "    print('n2= ',answer)\n",
        "\n",
        "if d2==0:\n",
        "    answer= n2 * d1 / n1\n",
        "    print('d2= ',answer)\n",
        "\n",
        "if n1==0:\n",
        "    answer= d1 * n2 / d2\n",
        "    print('n1=',answer)\n",
        "\n",
        "if d2==0:\n",
        "    answer= n1 * d2 / n2\n",
        "    print('d2=',answer)"
      ],
      "metadata": {
        "colab": {
          "base_uri": "https://localhost:8080/"
        },
        "id": "Yq9krSwLowmB",
        "outputId": "61019859-90d4-414d-eaa6-dcfc09b2bfb5"
      },
      "execution_count": null,
      "outputs": [
        {
          "output_type": "stream",
          "name": "stdout",
          "text": [
            "n2=  6.0\n"
          ]
        }
      ]
    },
    {
      "cell_type": "markdown",
      "source": [
        "Extra propotion problems\n",
        "\n",
        "\n",
        "*   Fraction problems('+','-',etc)eg:    \n",
        "   1 2/3+4/5\n",
        "*   convert recurring decimals to fraction\n",
        "\n"
      ],
      "metadata": {
        "id": "9uDe538QtDNa"
      }
    },
    {
      "cell_type": "code",
      "source": [
        "x=(1+2/3+4/5)\n",
        "print(x)"
      ],
      "metadata": {
        "colab": {
          "base_uri": "https://localhost:8080/"
        },
        "id": "qYcyT1QytMVQ",
        "outputId": "4e09dba3-dfd3-4415-e2b8-7cfbb05d5c51"
      },
      "execution_count": null,
      "outputs": [
        {
          "output_type": "stream",
          "name": "stdout",
          "text": [
            "2.466666666666667\n"
          ]
        }
      ]
    },
    {
      "cell_type": "code",
      "source": [
        "if x==0.666666:\n",
        "    y= (10(x) -(x))\n",
        "    print('y=')\n"
      ],
      "metadata": {
        "colab": {
          "base_uri": "https://localhost:8080/"
        },
        "id": "SFCHRLU0wCiV",
        "outputId": "733a9d25-b433-4f6d-fbdb-8667ca8e167b"
      },
      "execution_count": null,
      "outputs": [
        {
          "output_type": "stream",
          "name": "stderr",
          "text": [
            "<>:2: SyntaxWarning: 'int' object is not callable; perhaps you missed a comma?\n",
            "<>:2: SyntaxWarning: 'int' object is not callable; perhaps you missed a comma?\n",
            "<ipython-input-10-05338d8c1ae9>:2: SyntaxWarning: 'int' object is not callable; perhaps you missed a comma?\n",
            "  y= (10(x) -(x))\n"
          ]
        }
      ]
    },
    {
      "cell_type": "markdown",
      "source": [
        "# SOLVING FOR X\n"
      ],
      "metadata": {
        "id": "qemN5yr-IVRG"
      }
    },
    {
      "cell_type": "code",
      "source": [
        "x+3==5\n",
        "print(x)"
      ],
      "metadata": {
        "colab": {
          "base_uri": "https://localhost:8080/",
          "height": 164
        },
        "id": "aWb8pq0MIfhX",
        "outputId": "644393b2-5f52-484d-ae88-b823330c63f8"
      },
      "execution_count": 2,
      "outputs": [
        {
          "output_type": "error",
          "ename": "NameError",
          "evalue": "name 'X' is not defined",
          "traceback": [
            "\u001b[0;31m---------------------------------------------------------------------------\u001b[0m",
            "\u001b[0;31mNameError\u001b[0m                                 Traceback (most recent call last)",
            "\u001b[0;32m<ipython-input-2-601a336fc861>\u001b[0m in \u001b[0;36m<cell line: 1>\u001b[0;34m()\u001b[0m\n\u001b[0;32m----> 1\u001b[0;31m \u001b[0mX\u001b[0m\u001b[0;34m+\u001b[0m\u001b[0;36m3\u001b[0m\u001b[0;34m==\u001b[0m\u001b[0;36m5\u001b[0m\u001b[0;34m\u001b[0m\u001b[0;34m\u001b[0m\u001b[0m\n\u001b[0m\u001b[1;32m      2\u001b[0m \u001b[0mprint\u001b[0m\u001b[0;34m(\u001b[0m\u001b[0mx\u001b[0m\u001b[0;34m)\u001b[0m\u001b[0;34m\u001b[0m\u001b[0;34m\u001b[0m\u001b[0m\n",
            "\u001b[0;31mNameError\u001b[0m: name 'X' is not defined"
          ]
        }
      ]
    },
    {
      "cell_type": "markdown",
      "source": [
        "One cannot solve without th following commmand: SYMPY"
      ],
      "metadata": {
        "id": "KUDBkP6vKbIY"
      }
    },
    {
      "cell_type": "code",
      "source": [
        "import sympy\n",
        "from sympy import symbols\n",
        "from sympy.solvers import solve\n",
        "\n",
        "x = symbols('x')\n",
        "\n",
        "# put the equation thereafter\n",
        "eq = x - 2\n",
        "\n",
        "print('x= ',solve(eq,x))"
      ],
      "metadata": {
        "colab": {
          "base_uri": "https://localhost:8080/"
        },
        "id": "QpU9MjiyKwUk",
        "outputId": "7797ead7-fb65-4249-ca52-a23cf23dd58f"
      },
      "execution_count": 8,
      "outputs": [
        {
          "output_type": "stream",
          "name": "stdout",
          "text": [
            "x=  [1/2]\n"
          ]
        }
      ]
    },
    {
      "cell_type": "markdown",
      "source": [
        "or:"
      ],
      "metadata": {
        "id": "Dqv797ArKvSu"
      }
    },
    {
      "cell_type": "code",
      "source": [
        "import sympy\n",
        "from sympy import symbols\n",
        "from sympy.solvers import solve\n",
        "\n",
        "x=symbols('x')\n",
        "\n",
        "#put the squared equation\n",
        "\n",
        "eq = x**2 - 4\n",
        "\n",
        "print('x=',solve(eq,x))"
      ],
      "metadata": {
        "colab": {
          "base_uri": "https://localhost:8080/"
        },
        "id": "JFfBjb-CNAkD",
        "outputId": "acbc3b78-261d-4e62-fc45-a25814d6a88d"
      },
      "execution_count": 11,
      "outputs": [
        {
          "output_type": "stream",
          "name": "stdout",
          "text": [
            "x= [-2, 2]\n"
          ]
        }
      ]
    },
    {
      "cell_type": "markdown",
      "source": [
        "or:"
      ],
      "metadata": {
        "id": "Qb-GaJaxPJmg"
      }
    },
    {
      "cell_type": "code",
      "source": [
        "import sympy\n",
        "from sympy import symbols\n",
        "from sympy.solvers import solve\n",
        "\n",
        "x = symbols('x')\n",
        "\n",
        "eq = 2*x +4\n",
        "\n",
        "print('x=', solve(eq,x))"
      ],
      "metadata": {
        "colab": {
          "base_uri": "https://localhost:8080/"
        },
        "id": "jbwmUaZ-PMS5",
        "outputId": "c9faeae5-83d2-49c0-c891-268bb09e2fc1"
      },
      "execution_count": 12,
      "outputs": [
        {
          "output_type": "stream",
          "name": "stdout",
          "text": [
            "x= [-2]\n"
          ]
        }
      ]
    }
  ]
}